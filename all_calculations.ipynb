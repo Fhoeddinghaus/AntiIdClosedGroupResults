{
 "cells": [
  {
   "cell_type": "markdown",
   "metadata": {},
   "source": [
    "# Calculation and Analysis of $\\mathcal{G}$"
   ]
  },
  {
   "cell_type": "markdown",
   "metadata": {},
   "source": [
    "## Load the Package"
   ]
  },
  {
   "cell_type": "code",
   "execution_count": 43,
   "metadata": {},
   "outputs": [],
   "source": [
    "using ClosedGroupFunctions\n",
    "ClosedGroupFunctions.ijulia_behavior(:clear)\n",
    "using Zd_Arithmetics\n",
    "using SparseArrays\n",
    "\n",
    "import Zd_Arithmetics: ℤ₂\n",
    "\n",
    "#push!(LOAD_PATH,\"../src/\") # for developement, load the local package\n",
    "using AntiIdClosedGroup"
   ]
  },
  {
   "cell_type": "markdown",
   "metadata": {},
   "source": [
    "## Generating the group\n",
    "\n",
    "### Defining the parameters"
   ]
  },
  {
   "cell_type": "code",
   "execution_count": 659,
   "metadata": {},
   "outputs": [
    {
     "data": {
      "text/plain": [
       "6"
      ]
     },
     "execution_count": 659,
     "metadata": {},
     "output_type": "execute_result"
    }
   ],
   "source": [
    "n = 7 # size of the outer matrix\n",
    "k = 6 # size of the anti-identity sub-block"
   ]
  },
  {
   "cell_type": "markdown",
   "metadata": {},
   "source": [
    "### The standard generators\n"
   ]
  },
  {
   "cell_type": "code",
   "execution_count": 660,
   "metadata": {},
   "outputs": [
    {
     "name": "stdout",
     "output_type": "stream",
     "text": [
      "There are Ω = (7 choose 6) = 7  possible basic permutations.\n"
     ]
    }
   ],
   "source": [
    "Ω, all_pos, all_generators = construct_generators(n,k);"
   ]
  },
  {
   "cell_type": "markdown",
   "metadata": {},
   "source": [
    "#### Outputting the generators as LaTeX\n",
    "\n",
    "The generators can be converted to LaTeX-code if needed using\n",
    "\n",
    "    po2matrix(...)\n",
    "or\n",
    "\n",
    "    all_pos2matrix(...)\n",
    "\n",
    "(See [documentation](https://fhoeddinghaus.github.io/AntiIdClosedGroup.jl/).)"
   ]
  },
  {
   "cell_type": "markdown",
   "metadata": {},
   "source": [
    "### Generating the groups using the `ClosedGroupFunctions.jl`-Package"
   ]
  },
  {
   "cell_type": "code",
   "execution_count": 661,
   "metadata": {},
   "outputs": [
    {
     "name": "stdout",
     "output_type": "stream",
     "text": [
      "level #1 size 7 and 43 new elements (49 multiplications)\n",
      "level #2 size 50 and 231 new elements (301 multiplications)\n",
      "level #3 size 281 and 1015 new elements (1617 multiplications)\n",
      "level #4 size 1296 and 3430 new elements (7105 multiplications)\n",
      "level #5 size 4726 and 8379 new elements (24010 multiplications)\n",
      "level #6 size 13105 and 13083 new elements (58653 multiplications)\n",
      "level #7 size 26188 and 10408 new elements (91581 multiplications)\n",
      "level #8 size 36596 and 3409 new elements (72856 multiplications)\n",
      "level #9 size 40005 and 315 new elements (23863 multiplications)\n",
      "level #10 size 40320 and 0 new elements (2205 multiplications)\n",
      "\n",
      "Ended after 10 iterations. \n",
      "The resulting group has 40320 elements.\n"
     ]
    }
   ],
   "source": [
    "group, num_all_multiplications = group_generator_basic(all_generators; prnt=false);"
   ]
  },
  {
   "cell_type": "markdown",
   "metadata": {},
   "source": [
    "It's not necessary to use the generators, as the `group_generator_basic` takes all kind of elements. Someone may try smaller sets of generators, as seen below (permutations).\n",
    "\n",
    "It's advised to save the calculated group to disk for later use by using `ClosedGroupFunctions.jl`'s `store_group(...)` and `load_group(...)` functions."
   ]
  },
  {
   "cell_type": "code",
   "execution_count": null,
   "metadata": {},
   "outputs": [],
   "source": [
    "# store the group to disk\n",
    "store_group(\"n$n\" * \"k$k\", group)"
   ]
  },
  {
   "cell_type": "code",
   "execution_count": null,
   "metadata": {},
   "outputs": [],
   "source": [
    "# load the group from disk\n",
    "group = load_group(\"n$n\" * \"k$k\");"
   ]
  },
  {
   "cell_type": "code",
   "execution_count": null,
   "metadata": {},
   "outputs": [],
   "source": []
  },
  {
   "cell_type": "markdown",
   "metadata": {},
   "source": [
    "#### Labelling the group"
   ]
  },
  {
   "cell_type": "code",
   "execution_count": null,
   "metadata": {},
   "outputs": [],
   "source": [
    "# label the generators\n",
    "all_generators_labelled = label_generators(all_generators);\n",
    "\n",
    "# label the group with the fast method\n",
    "#number_of_elements = length(group)\n",
    "#@time labelled_group = labelled_group_generator_simple(all_generators_labelled, number_of_elements);\n",
    "\n",
    "# or label the group with the shortest possible label (slower method)\n",
    "labelled_group = labelled_group_generator_shortest(all_generators_labelled; prnt=false)[1];"
   ]
  },
  {
   "cell_type": "code",
   "execution_count": null,
   "metadata": {},
   "outputs": [],
   "source": [
    "# it's advised to store the labelled group for future use\n",
    "store_group(\"n$n\" * \"k$k\", labelled_group; filename_prefix=\"closed_group_labelled_\")"
   ]
  },
  {
   "cell_type": "code",
   "execution_count": 662,
   "metadata": {},
   "outputs": [],
   "source": [
    "# load the labelled group from disk\n",
    "labelled_group = load_group(\"n$n\" * \"k$k\"; filename_prefix=\"closed_group_labelled_\");"
   ]
  },
  {
   "cell_type": "code",
   "execution_count": null,
   "metadata": {},
   "outputs": [],
   "source": []
  },
  {
   "cell_type": "markdown",
   "metadata": {},
   "source": [
    "## Investigation and Analysis\n",
    "\n",
    "We now want to investigate the group and it's generators further.\n",
    "\n",
    "### Permutations\n",
    "\n",
    "To investigate the group/generators under permutations, we first have to label the elements like above and then calculate all possible permutations."
   ]
  },
  {
   "cell_type": "code",
   "execution_count": null,
   "metadata": {},
   "outputs": [],
   "source": [
    "all_generators_labelled = label_generators(all_generators);"
   ]
  },
  {
   "cell_type": "code",
   "execution_count": null,
   "metadata": {},
   "outputs": [],
   "source": [
    "# all permutations of [1, 2, 3, 4, 5, 6, 7] can be found with Combinatorics.jl\n",
    "# either by\n",
    "# using Combinatorics\n",
    "# collect(permutations(1:n))\n",
    "# or without importing (AntiIdClosedGroup depends directly on Combinatorics.jl)\n",
    "all_permutations = collect(AntiIdClosedGroup.permutations(1:n));"
   ]
  },
  {
   "cell_type": "markdown",
   "metadata": {},
   "source": [
    "Now we can apply the permutations (or a some of them) to the labelled generators by using the following function. The output is redirected and **appended** into a file with a given prefix (`\"permutation_cycles_\"`) and the identifier (`\"n$n\"*\"k$k\"`), because it's quite long."
   ]
  },
  {
   "cell_type": "code",
   "execution_count": null,
   "metadata": {},
   "outputs": [],
   "source": [
    "print_permutation_cycles(all_generators_labelled, all_permutations, \"n$n\" * \"k$k\")"
   ]
  },
  {
   "cell_type": "markdown",
   "metadata": {},
   "source": [
    "After some analysis of the file, we find a list of permutations, that can construct the other generators from each other. In the file, `p[i]` corresponds to the `i`th permutation in the entered list, `all_permutations`."
   ]
  },
  {
   "cell_type": "code",
   "execution_count": null,
   "metadata": {},
   "outputs": [],
   "source": [
    "# in this case, only one permutation is needed to calculate all other generators from one of them.\n",
    "selected_permutations = [97] # indices of the selected permutations \n",
    "ps = all_permutations #[selected_permutations] # use all_permutations to consider the group under all possible permutations\n",
    "\n",
    "Pₛ = [perm_rows(id(n), ps[i]) for i in 1:length(ps)]\n",
    "Qₛ = [perm_cols(id(n), ps[i]) for i in 1:length(ps)] # Q = P_inv\n",
    "\n",
    "# new set of generators\n",
    "a = all_generators[1]\n",
    "new_generators = [a, Pₛ..., Qₛ...];"
   ]
  },
  {
   "cell_type": "code",
   "execution_count": null,
   "metadata": {},
   "outputs": [],
   "source": [
    "# calculate the group with the new generators"
   ]
  },
  {
   "cell_type": "code",
   "execution_count": null,
   "metadata": {},
   "outputs": [],
   "source": [
    "group_with_perms, num_all_multiplications_with_perms = group_generator_basic(new_generators; prnt=false, commutes=false);"
   ]
  },
  {
   "cell_type": "code",
   "execution_count": 42,
   "metadata": {},
   "outputs": [
    {
     "data": {
      "text/plain": [
       "true"
      ]
     },
     "execution_count": 42,
     "metadata": {},
     "output_type": "execute_result"
    }
   ],
   "source": [
    "# As explained in the thesis results, the group stays the same under permutations, \n",
    "# because all possible permutations are already part of the group.\n",
    "# This is therefore a method to possibly find a smaller set of generators.\n",
    "group == group_with_perms"
   ]
  },
  {
   "cell_type": "markdown",
   "metadata": {},
   "source": [
    "### Invariants and Conjugacy Classes\n",
    "\n",
    "#### Calculating the conjugacy classes"
   ]
  },
  {
   "cell_type": "code",
   "execution_count": null,
   "metadata": {},
   "outputs": [],
   "source": [
    "conjugacy_classes = calculate_conjugacy_classes(labelled_group);\n",
    "\n",
    "println(\"\\nThere were $(length(conjugacy_classes)) different conjugacy classes found.\")"
   ]
  },
  {
   "cell_type": "code",
   "execution_count": null,
   "metadata": {},
   "outputs": [],
   "source": [
    "store_group(\"n$n\" * \"k$k\", conjugacy_classes; filename_prefix=\"conjugacy_classes_\")"
   ]
  },
  {
   "cell_type": "code",
   "execution_count": 666,
   "metadata": {},
   "outputs": [],
   "source": [
    "conjugacy_classes = load_group(\"n$n\" * \"k$k\"; filename_prefix=\"conjugacy_classes_\");"
   ]
  },
  {
   "cell_type": "markdown",
   "metadata": {},
   "source": [
    "#### Invariants\n",
    "The package provides a few invariants that can be used:\n",
    "\n",
    "1. Order of an element: `ord(g, n)`\n",
    "2. Trace of an element (with higher powers): `tr_of_power(g, power) = tr(g^power)`\n",
    "3. Rank of an element (+ Id): `rank_of_power_plus_id(g, power, n) = rank(g^power + id(n))`\n",
    "4. Generalized Arf invariant of an element: `generalized_arf(g, n; readable = true)`\n",
    "\n",
    "To use this functions for investigation of the conjugacy classes, we can use the functions `apply_invariant_to_first_in_class(...)` or `apply_invariant_to_first_in_all_classes(...)` from the `ClosedGroupFunctions.jl` package.\n",
    "\n",
    "Both of these functions expect an `invariant` with exactly one argument: the element `g`. Therefore we have to define wrappers for the invariants, that we want to look at."
   ]
  },
  {
   "cell_type": "code",
   "execution_count": 667,
   "metadata": {},
   "outputs": [],
   "source": [
    "prnt = false;"
   ]
  },
  {
   "cell_type": "code",
   "execution_count": 668,
   "metadata": {},
   "outputs": [],
   "source": [
    "# 1. order\n",
    "order(g) = ord(g,n)\n",
    "order_values = apply_invariant_to_first_in_all_classes(conjugacy_classes, labelled_group, order; prnt=prnt);\n"
   ]
  },
  {
   "cell_type": "code",
   "execution_count": 669,
   "metadata": {},
   "outputs": [
    {
     "name": "stdout",
     "output_type": "stream",
     "text": [
      "\n"
     ]
    }
   ],
   "source": [
    "# 2. trace\n",
    "# 2.1 power = 1\n",
    "tr¹(g) = tr_of_power(g, 1)\n",
    "tr¹_values = apply_invariant_to_first_in_all_classes(conjugacy_classes, labelled_group, tr¹; prnt=prnt);\n",
    "println(\"\")\n",
    "\n",
    "# 2.2 power = 2\n",
    "tr²(g) = tr_of_power(g, 2)\n",
    "tr²_values = apply_invariant_to_first_in_all_classes(conjugacy_classes, labelled_group, tr²; prnt=prnt);\n",
    "\n",
    "# ... maybe higher powers"
   ]
  },
  {
   "cell_type": "code",
   "execution_count": 670,
   "metadata": {},
   "outputs": [
    {
     "name": "stdout",
     "output_type": "stream",
     "text": [
      "\n"
     ]
    }
   ],
   "source": [
    "# 3. rank\n",
    "# 3.1 rank(g^1 + I)\n",
    "rank¹(g) = rank_of_power_plus_id(Matrix(g), 1, n) # sometimes a wrapping of g with Matrix(g) is needed\n",
    "rank¹_values = apply_invariant_to_first_in_all_classes(conjugacy_classes, labelled_group, rank¹; prnt=prnt);\n",
    "println(\"\")\n",
    "\n",
    "# 3.2 rank(g^2 + I)\n",
    "rank²(g) = rank_of_power_plus_id(Matrix(g), 2, n)\n",
    "rank²_values = apply_invariant_to_first_in_all_classes(conjugacy_classes, labelled_group, rank²; prnt=prnt);\n",
    "\n",
    "# ... maybe higher powers"
   ]
  },
  {
   "cell_type": "code",
   "execution_count": 671,
   "metadata": {},
   "outputs": [],
   "source": [
    "# 4. GArf\n",
    "garf(g) = generalized_arf(g, n; readable=true)\n",
    "garf_values = apply_invariant_to_first_in_all_classes(conjugacy_classes, labelled_group, garf; prnt=prnt);\n"
   ]
  },
  {
   "cell_type": "markdown",
   "metadata": {},
   "source": [
    "#### Pretty output of the values using a HTML table"
   ]
  },
  {
   "cell_type": "code",
   "execution_count": 672,
   "metadata": {},
   "outputs": [
    {
     "data": {
      "text/html": [
       "<table><thead>\n",
       "            <tr>\n",
       "                <td>Conjugacy Class No.</td>\n",
       "                <td>x for Cl(x)</td>\n",
       "<td># of elements in Cl(x)</td>\n",
       "<td>ord(g)</td>\n",
       "<td>tr(g^1)</td>\n",
       "<td>tr(g^2)</td>\n",
       "<td>rank(g^1 + 1)</td>\n",
       "<td>rank(g^2 + 1)</td>\n",
       "<td>GArf [radian, °]</td>\n",
       "\n",
       "                \n",
       "            </tr>\n",
       "        </thead><tbody>\n",
       "<tr><td>1</td><td>a</td>\n",
       "<td>28</td>\n",
       "<td>2</td>\n",
       "<td>1</td>\n",
       "<td>1</td>\n",
       "<td>1</td>\n",
       "<td>0</td>\n",
       "<td>(\"0.0π\", \"0.0°\")</td>\n",
       "</tr>\n",
       "<tr><td>2</td><td>aa</td>\n",
       "<td>1</td>\n",
       "<td>1</td>\n",
       "<td>1</td>\n",
       "<td>1</td>\n",
       "<td>0</td>\n",
       "<td>0</td>\n",
       "<td>(\"-0.25π\", \"-45.0°\")</td>\n",
       "</tr>\n",
       "<tr><td>3</td><td>ab</td>\n",
       "<td>112</td>\n",
       "<td>3</td>\n",
       "<td>0</td>\n",
       "<td>0</td>\n",
       "<td>3</td>\n",
       "<td>3</td>\n",
       "<td>(\"0.75π\", \"135.0°\")</td>\n",
       "</tr>\n",
       "<tr><td>4</td><td>abacd</td>\n",
       "<td>1120</td>\n",
       "<td>6</td>\n",
       "<td>0</td>\n",
       "<td>0</td>\n",
       "<td>4</td>\n",
       "<td>3</td>\n",
       "<td>(\"0.0π\", \"0.0°\")</td>\n",
       "</tr>\n",
       "<tr><td>5</td><td>abadac</td>\n",
       "<td>1344</td>\n",
       "<td>5</td>\n",
       "<td>0</td>\n",
       "<td>0</td>\n",
       "<td>5</td>\n",
       "<td>5</td>\n",
       "<td>(\"0.75π\", \"135.0°\")</td>\n",
       "</tr>\n",
       "<tr><td>6</td><td>abadcd</td>\n",
       "<td>210</td>\n",
       "<td>2</td>\n",
       "<td>1</td>\n",
       "<td>1</td>\n",
       "<td>2</td>\n",
       "<td>0</td>\n",
       "<td>(\"0.0π\", \"0.0°\")</td>\n",
       "</tr>\n",
       "<tr><td>7</td><td>abadce</td>\n",
       "<td>2520</td>\n",
       "<td>4</td>\n",
       "<td>1</td>\n",
       "<td>1</td>\n",
       "<td>4</td>\n",
       "<td>2</td>\n",
       "<td>(\"0.0π\", \"0.0°\")</td>\n",
       "</tr>\n",
       "<tr><td>8</td><td>abaecad</td>\n",
       "<td>3360</td>\n",
       "<td>6</td>\n",
       "<td>1</td>\n",
       "<td>1</td>\n",
       "<td>5</td>\n",
       "<td>6</td>\n",
       "<td>(\"0.0π\", \"0.0°\")</td>\n",
       "</tr>\n",
       "<tr><td>9</td><td>abaedcac</td>\n",
       "<td>1120</td>\n",
       "<td>3</td>\n",
       "<td>1</td>\n",
       "<td>1</td>\n",
       "<td>6</td>\n",
       "<td>6</td>\n",
       "<td>(\"-0.25π\", \"-45.0°\")</td>\n",
       "</tr>\n",
       "<tr><td>10</td><td>abaedcd</td>\n",
       "<td>420</td>\n",
       "<td>2</td>\n",
       "<td>1</td>\n",
       "<td>1</td>\n",
       "<td>3</td>\n",
       "<td>0</td>\n",
       "<td>(\"0.0π\", \"0.0°\")</td>\n",
       "</tr>\n",
       "<tr><td>11</td><td>abaedcf</td>\n",
       "<td>4032</td>\n",
       "<td>10</td>\n",
       "<td>0</td>\n",
       "<td>0</td>\n",
       "<td>6</td>\n",
       "<td>5</td>\n",
       "<td>(\"0.0π\", \"0.0°\")</td>\n",
       "</tr>\n",
       "<tr><td>12</td><td>abafdcae</td>\n",
       "<td>5760</td>\n",
       "<td>7</td>\n",
       "<td>0</td>\n",
       "<td>0</td>\n",
       "<td>7</td>\n",
       "<td>7</td>\n",
       "<td>(\"-0.25π\", \"-45.0°\")</td>\n",
       "</tr>\n",
       "<tr><td>13</td><td>abafedcac</td>\n",
       "<td>3360</td>\n",
       "<td>12</td>\n",
       "<td>0</td>\n",
       "<td>0</td>\n",
       "<td>6</td>\n",
       "<td>5</td>\n",
       "<td>(\"-0.25π\", \"-45.0°\")</td>\n",
       "</tr>\n",
       "<tr><td>14</td><td>abafedcd</td>\n",
       "<td>1680</td>\n",
       "<td>6</td>\n",
       "<td>0</td>\n",
       "<td>0</td>\n",
       "<td>5</td>\n",
       "<td>3</td>\n",
       "<td>(\"0.0π\", \"0.0°\")</td>\n",
       "</tr>\n",
       "<tr><td>15</td><td>abafedcg</td>\n",
       "<td>3360</td>\n",
       "<td>6</td>\n",
       "<td>1</td>\n",
       "<td>1</td>\n",
       "<td>5</td>\n",
       "<td>6</td>\n",
       "<td>(\"-0.25π\", \"-45.0°\")</td>\n",
       "</tr>\n",
       "<tr><td>16</td><td>abagedcaf</td>\n",
       "<td>5040</td>\n",
       "<td>8</td>\n",
       "<td>1</td>\n",
       "<td>1</td>\n",
       "<td>6</td>\n",
       "<td>5</td>\n",
       "<td>(\"-0.25π\", \"-45.0°\")</td>\n",
       "</tr>\n",
       "<tr><td>17</td><td>abagfedcac</td>\n",
       "<td>2688</td>\n",
       "<td>15</td>\n",
       "<td>1</td>\n",
       "<td>1</td>\n",
       "<td>7</td>\n",
       "<td>7</td>\n",
       "<td>(\"-0.25π\", \"-45.0°\")</td>\n",
       "</tr>\n",
       "<tr><td>18</td><td>abagfedcad</td>\n",
       "<td>1260</td>\n",
       "<td>4</td>\n",
       "<td>1</td>\n",
       "<td>1</td>\n",
       "<td>5</td>\n",
       "<td>3</td>\n",
       "<td>(\"-0.25π\", \"-45.0°\")</td>\n",
       "</tr>\n",
       "<tr><td>19</td><td>abagfedcd</td>\n",
       "<td>1260</td>\n",
       "<td>4</td>\n",
       "<td>1</td>\n",
       "<td>1</td>\n",
       "<td>4</td>\n",
       "<td>2</td>\n",
       "<td>(\"-0.25π\", \"-45.0°\")</td>\n",
       "</tr>\n",
       "<tr><td>20</td><td>abagfedce</td>\n",
       "<td>1120</td>\n",
       "<td>6</td>\n",
       "<td>1</td>\n",
       "<td>1</td>\n",
       "<td>6</td>\n",
       "<td>6</td>\n",
       "<td>(\"0.0π\", \"0.0°\")</td>\n",
       "</tr>\n",
       "<tr><td>21</td><td>abc</td>\n",
       "<td>420</td>\n",
       "<td>4</td>\n",
       "<td>1</td>\n",
       "<td>1</td>\n",
       "<td>3</td>\n",
       "<td>2</td>\n",
       "<td>(\"0.75π\", \"135.0°\")</td>\n",
       "</tr>\n",
       "<tr><td>22</td><td>afaeagfedcbc</td>\n",
       "<td>105</td>\n",
       "<td>2</td>\n",
       "<td>1</td>\n",
       "<td>1</td>\n",
       "<td>3</td>\n",
       "<td>0</td>\n",
       "<td>(\"-0.25π\", \"-45.0°\")</td>\n",
       "</tr>\n",
       "</tbody></table>\n"
      ],
      "text/plain": [
       "HTML{var\"#37#38\"}(var\"#37#38\"())"
      ]
     },
     "execution_count": 672,
     "metadata": {},
     "output_type": "execute_result"
    }
   ],
   "source": [
    "# list of invariants (columns) to print out in the form of label => values\n",
    "column_keys = [\"# of elements in Cl(x)\", \"ord(g)\", \"tr(g^1)\", \"tr(g^2)\", \"rank(g^1 + 1)\", \"rank(g^2 + 1)\", \"GArf [radian, °]\"]\n",
    "columns = Dict([\n",
    "        \"# of elements in Cl(x)\" => length.(conjugacy_classes),\n",
    "        \"ord(g)\" => order_values,\n",
    "        \"tr(g^1)\" => tr¹_values,\n",
    "        \"tr(g^2)\" => tr²_values,\n",
    "        \"rank(g^1 + 1)\" => rank¹_values,\n",
    "        \"rank(g^2 + 1)\" => rank²_values,\n",
    "        \"GArf [radian, °]\" => garf_values\n",
    "        ])\n",
    "\n",
    "HTML() do io\n",
    "    println(io, \"<table><thead>\n",
    "            <tr>\n",
    "                <td>Conjugacy Class No.</td>\n",
    "                <td>x for Cl(x)</td>\")\n",
    "    for l in column_keys\n",
    "        println(io, \"<td>\" * l * \"</td>\")\n",
    "    end\n",
    "    println(io, \"\n",
    "                \n",
    "            </tr>\n",
    "        </thead><tbody>\")\n",
    "    for i in 1:length(conjugacy_classes)\n",
    "        println(io, \"<tr><td>$i</td><td>\" * sort(collect(conjugacy_classes[i]))[1] * \"</td>\")\n",
    "        for l in column_keys\n",
    "             println(io, \"<td>$(columns[l][i])</td>\")\n",
    "        end\n",
    "        println(io, \"</tr>\")\n",
    "    end\n",
    "    \n",
    "    println(io, \"</tbody></table>\")\n",
    "end"
   ]
  },
  {
   "cell_type": "code",
   "execution_count": null,
   "metadata": {
    "scrolled": false
   },
   "outputs": [],
   "source": []
  }
 ],
 "metadata": {
  "kernelspec": {
   "display_name": "Julia 1.6.0",
   "language": "julia",
   "name": "julia-1.6"
  },
  "language_info": {
   "file_extension": ".jl",
   "mimetype": "application/julia",
   "name": "julia",
   "version": "1.6.0"
  }
 },
 "nbformat": 4,
 "nbformat_minor": 2
}
